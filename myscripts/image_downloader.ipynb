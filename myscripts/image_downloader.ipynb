{
 "cells": [
  {
   "cell_type": "markdown",
   "id": "dfd0b1f7-2aab-4b79-a6a5-4a708c853c90",
   "metadata": {},
   "source": [
    "# Download images from DDG \n",
    "\n",
    "The image downloader the course shows uses Bing, but getting the bing search API key is a pain. So some folks have worked out an alternative. There is a library called `jmd_imagescraper` that allows you to do this with minimal effort.\n",
    "\n",
    "The details of the library can be found at https://joedockrill.github.io/jmd_imagescraper/\n",
    "\n",
    "The code below will create the set of images for 'grizzly', 'black', 'teddy' bears."
   ]
  },
  {
   "cell_type": "code",
   "execution_count": 2,
   "id": "1718436f-a1c3-4d9e-ac26-14cbefae6560",
   "metadata": {},
   "outputs": [
    {
     "name": "stdout",
     "output_type": "stream",
     "text": [
      "Duckduckgo search: grizzly bear\n",
      "Downloading results into /home/fastbook/images/bears/grizzly\n"
     ]
    },
    {
     "data": {
      "text/html": [
       "\n",
       "    <div>\n",
       "        <style>\n",
       "            /* Turns off some styling */\n",
       "            progress {\n",
       "                /* gets rid of default border in Firefox and Opera. */\n",
       "                border: none;\n",
       "                /* Needs to be in here for Safari polyfill so background images work as expected. */\n",
       "                background-size: auto;\n",
       "            }\n",
       "            .progress-bar-interrupted, .progress-bar-interrupted::-webkit-progress-bar {\n",
       "                background: #F44336;\n",
       "            }\n",
       "        </style>\n",
       "      <progress value='50' class='' max='50' style='width:300px; height:20px; vertical-align: middle;'></progress>\n",
       "      100.00% [50/50 00:08<00:00 Images downloaded]\n",
       "    </div>\n",
       "    "
      ],
      "text/plain": [
       "<IPython.core.display.HTML object>"
      ]
     },
     "metadata": {},
     "output_type": "display_data"
    },
    {
     "name": "stdout",
     "output_type": "stream",
     "text": [
      "Duckduckgo search: black bear\n",
      "Downloading results into /home/fastbook/images/bears/black\n"
     ]
    },
    {
     "data": {
      "text/html": [
       "\n",
       "    <div>\n",
       "        <style>\n",
       "            /* Turns off some styling */\n",
       "            progress {\n",
       "                /* gets rid of default border in Firefox and Opera. */\n",
       "                border: none;\n",
       "                /* Needs to be in here for Safari polyfill so background images work as expected. */\n",
       "                background-size: auto;\n",
       "            }\n",
       "            .progress-bar-interrupted, .progress-bar-interrupted::-webkit-progress-bar {\n",
       "                background: #F44336;\n",
       "            }\n",
       "        </style>\n",
       "      <progress value='50' class='' max='50' style='width:300px; height:20px; vertical-align: middle;'></progress>\n",
       "      100.00% [50/50 00:09<00:00 Images downloaded]\n",
       "    </div>\n",
       "    "
      ],
      "text/plain": [
       "<IPython.core.display.HTML object>"
      ]
     },
     "metadata": {},
     "output_type": "display_data"
    },
    {
     "name": "stdout",
     "output_type": "stream",
     "text": [
      "Duckduckgo search: teddy bear\n",
      "Downloading results into /home/fastbook/images/bears/teddy\n"
     ]
    },
    {
     "data": {
      "text/html": [
       "\n",
       "    <div>\n",
       "        <style>\n",
       "            /* Turns off some styling */\n",
       "            progress {\n",
       "                /* gets rid of default border in Firefox and Opera. */\n",
       "                border: none;\n",
       "                /* Needs to be in here for Safari polyfill so background images work as expected. */\n",
       "                background-size: auto;\n",
       "            }\n",
       "            .progress-bar-interrupted, .progress-bar-interrupted::-webkit-progress-bar {\n",
       "                background: #F44336;\n",
       "            }\n",
       "        </style>\n",
       "      <progress value='50' class='' max='50' style='width:300px; height:20px; vertical-align: middle;'></progress>\n",
       "      100.00% [50/50 00:07<00:00 Images downloaded]\n",
       "    </div>\n",
       "    "
      ],
      "text/plain": [
       "<IPython.core.display.HTML object>"
      ]
     },
     "metadata": {},
     "output_type": "display_data"
    }
   ],
   "source": [
    "from jmd_imagescraper.core import *\n",
    "from pathlib import Path\n",
    "\n",
    "root = Path().cwd()/\"images/bears/\"\n",
    "bears = ['grizzly','black','teddy']\n",
    "\n",
    "for bear in bears:\n",
    "    # Arguments to duckduckgo_search are \n",
    "    # duckduckgo_search(path, label, keywords, max_results)\n",
    "    # Note that it will automatically create a folder by label in the root path.\n",
    "    duckduckgo_search(root,bear,bear + \" bear\", max_results=50)\n",
    "    \n"
   ]
  },
  {
   "cell_type": "markdown",
   "id": "b495e409-329e-4a8d-b83c-0031a8091f63",
   "metadata": {},
   "source": [
    "The below code shows how to cleanthis database up. This is to ensure that we have a good set of images. Originally my function call for `duckduckgo_search` was `duckduckgo_search(root,bear,bear, max_results=50)` and while that worked alright for Grizzly and Teddy bears, it was a massive fail for black. Because it searched only for the keyword black and as you can guess the images were totally random. I figured that out by running the cleaner and seeing how that was working. So the method listed below is really helpful.\n",
    "\n",
    "I finally added the string \"bear\" to the search keyword, so ultimately the search string became 'grizzly bear', 'black bear' and 'teddy bear' which I think is a lot more useful."
   ]
  },
  {
   "cell_type": "code",
   "execution_count": 3,
   "id": "cd76eb4b-136f-4a6c-b13e-0791c34515c2",
   "metadata": {},
   "outputs": [
    {
     "data": {
      "application/vnd.jupyter.widget-view+json": {
       "model_id": "3c225db81a7c451abedde4e8421d70c0",
       "version_major": 2,
       "version_minor": 0
      },
      "text/plain": [
       "HBox(children=(Button(description='|<<', layout=Layout(width='60px'), style=ButtonStyle()), Button(description…"
      ]
     },
     "metadata": {},
     "output_type": "display_data"
    },
    {
     "data": {
      "application/vnd.jupyter.widget-view+json": {
       "model_id": "79eabd16327140e8ade0367851413209",
       "version_major": 2,
       "version_minor": 0
      },
      "text/plain": [
       "HTML(value='<h2>No images left to display in this folder.</h2>', layout=Layout(visibility='hidden'))"
      ]
     },
     "metadata": {},
     "output_type": "display_data"
    },
    {
     "data": {
      "application/vnd.jupyter.widget-view+json": {
       "model_id": "486adf0d0b3743d99ad16b31f9c2d056",
       "version_major": 2,
       "version_minor": 0
      },
      "text/plain": [
       "GridBox(children=(VBox(children=(Image(value=b'', layout=\"Layout(width='150px')\"), Button(description='Delete'…"
      ]
     },
     "metadata": {},
     "output_type": "display_data"
    }
   ],
   "source": [
    "from jmd_imagescraper.imagecleaner import *\n",
    "display_image_cleaner(root)"
   ]
  },
  {
   "cell_type": "code",
   "execution_count": null,
   "id": "bba1e533-b311-4bcd-9586-4cb1a260971a",
   "metadata": {},
   "outputs": [],
   "source": []
  }
 ],
 "metadata": {
  "kernelspec": {
   "display_name": "Python 3 (ipykernel)",
   "language": "python",
   "name": "python3"
  },
  "language_info": {
   "codemirror_mode": {
    "name": "ipython",
    "version": 3
   },
   "file_extension": ".py",
   "mimetype": "text/x-python",
   "name": "python",
   "nbconvert_exporter": "python",
   "pygments_lexer": "ipython3",
   "version": "3.8.10"
  }
 },
 "nbformat": 4,
 "nbformat_minor": 5
}
